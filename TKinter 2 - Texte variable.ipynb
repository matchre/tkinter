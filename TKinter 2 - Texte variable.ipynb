{
 "metadata": {
  "name": "",
  "signature": "sha256:52ca4788e92a9f853cc4cda1c291fad7b487a45727d77d8130f56fc53110c2f5"
 },
 "nbformat": 3,
 "nbformat_minor": 0,
 "worksheets": [
  {
   "cells": [
    {
     "cell_type": "markdown",
     "metadata": {},
     "source": [
      "Afin de pouvoir personnaliser votre classeur sans d\u00e9truire le classeur sur lequel travaille votre voisin, vous allez tout d'abord aller dans le menu **`File`** puis **`Make a copy...`**. Renommez le classeur en ajoutant votre nom \u00e0 la fin du nom de fichier par exemple."
     ]
    },
    {
     "cell_type": "heading",
     "level": 1,
     "metadata": {},
     "source": [
      "Texte variable et appel d'une fonction par un bouton"
     ]
    },
    {
     "cell_type": "markdown",
     "metadata": {},
     "source": [
      "Nous allons \u00e9laborer dans ce classeur un programme simulant le lancer d'un d\u00e9 \u00e0 6 faces :\n",
      "![](http://s25.postimg.org/lfd6b8rm7/Capture_du_2014_11_15_17_18_07.png)\n",
      "Lancez le programme ci-dessous et contemplez le r\u00e9sultat."
     ]
    },
    {
     "cell_type": "code",
     "collapsed": false,
     "input": [
      "from tkinter import *\n",
      "from random import *\n",
      "\n",
      "def NouveauLance():\n",
      "    nb = randint(1,6)\n",
      "    Texte.set('R\u00e9sultat -> ' + str(nb))\n",
      "    \n",
      "# Cr\u00e9ation de la fen\u00eatre principale (main window)\n",
      "Mafenetre = Tk()\n",
      "Mafenetre.title('D\u00e9 \u00e0 6 faces')\n",
      "\n",
      "# Cr\u00e9ation d'un widget Button (bouton Lancer)\n",
      "BoutonLancer = Button(Mafenetre, text ='Lancer', command = NouveauLance)\n",
      "\n",
      "# Positionnement du widget avec la m\u00e9thode pack()\n",
      "BoutonLancer.pack(side = LEFT, padx = 25, pady = 5)\n",
      "\n",
      "# Cr\u00e9ation d'un widget Button (bouton Quitter)\n",
      "BoutonQuitter = Button(Mafenetre, text ='Quitter', command = Mafenetre.destroy)\n",
      "BoutonQuitter.pack(side = LEFT, padx = 25, pady = 5)\n",
      "Texte = StringVar()\n",
      "\n",
      "# On appellle une fois la fonction pour initialiser notre Texte\n",
      "NouveauLance()\n",
      "# La fonction NouveauLance() sera ensuite appel\u00e9e via le bouton \"Lancer\"\n",
      "\n",
      "# Cr\u00e9ation d'un widget Label (texte 'R\u00e9sultat -> x')\n",
      "LabelResultat = Label(Mafenetre, textvariable = Texte, fg ='red', bg ='white')\n",
      "LabelResultat.pack(side = LEFT, padx = 25, pady = 5)\n",
      "Mafenetre.mainloop()"
     ],
     "language": "python",
     "metadata": {},
     "outputs": [],
     "prompt_number": 3
    },
    {
     "cell_type": "markdown",
     "metadata": {},
     "source": [
      "Dans cet exemple, vous remarquerez plusieurs points int\u00e9ressants :\n",
      "- La fen\u00eatre poss\u00e8de un vrai titre \u00e0 pr\u00e9sent et pas le titre standard *TK*\n",
      "- Nous avons ajout\u00e9 un bouton *Lancer*. Lorsque celui-ci est press\u00e9, la fonction Python **NouveauLance()** est appel\u00e9e\n",
      "- Le texte du label est modifi\u00e9. Cela n\u00e9cessite une petite explication ..."
     ]
    },
    {
     "cell_type": "heading",
     "level": 2,
     "metadata": {},
     "source": [
      "Modification du texte d'un objet"
     ]
    },
    {
     "cell_type": "markdown",
     "metadata": {},
     "source": [
      "Sous TKinter, le texte d'un *Label* est **d\u00e9termin\u00e9 au moment de sa cr\u00e9ation** et il n'y a plus moyen de le modifier par la suite. Or dans cet exemple, nous voulons bien sur modifier le texte. Nous utilisons donc pour cela un nouvel objet de TKinter :  le ***StrinVar()***. La ligne\n",
      "\n",
      "    Texte = StringVar()\n",
      "permet de cr\u00e9er un objet *StringVar* accessible par la variable *Texte*.\n",
      "\n",
      "Nous indiquons ensuite lors de la cr\u00e9ation du *Label* que son texte sera variable et que son contenu sera accessible par la variable *Texte* :\n",
      "\n",
      "    LabelResultat = Label(Mafenetre, textvariable = Texte, fg ='red', bg ='white')\n",
      "\n",
      "La derni\u00e8re chose qu'il nous reste \u00e0 apprendre, c'est modifier le texte de cet objet *StringVar*. Cela est r\u00e9alis\u00e9 par l'appel de la m\u00e9thode **set** sur l'objet *Texte* :\n",
      "\n",
      "    Texte.set('R\u00e9sultat -> ' + str(nb))"
     ]
    },
    {
     "cell_type": "heading",
     "level": 2,
     "metadata": {},
     "source": [
      "Appel d'une fonction Python par un bouton"
     ]
    },
    {
     "cell_type": "markdown",
     "metadata": {},
     "source": [
      "Dans cet exemple, l'appui sur le bouton *Lancer* appelle une fonction que nous avons \u00e9labor\u00e9 nous-m\u00eame. Il est en effet tr\u00e8s simple avec TKinter de relier l'appui sur un bouton avec l'appel d'une fonction. C'est ce que l'on fait par :\n",
      "\n",
      "    BoutonLancer = Button(Mafenetre, text ='Lancer', command = NouveauLance)"
     ]
    },
    {
     "cell_type": "heading",
     "level": 2,
     "metadata": {},
     "source": [
      "Disposition \u00e0 l'horizontal"
     ]
    },
    {
     "cell_type": "markdown",
     "metadata": {},
     "source": [
      "Vous constatez que contrairement \u00e0 l'exemple pr\u00e9c\u00e9dent, les widgets sont dispos\u00e9s horizontalement dans la fen\u00eatre. Ceci se fait en passant des param\u00e8tres particuliers \u00e0 la m\u00e9thode *pack()* que nous avons d\u00e9j\u00e0 rencontr\u00e9e :\n",
      "\n",
      "    BoutonLancer.pack(side = LEFT, padx = 5, pady = 5)\n",
      "    \n",
      "- *side=LEFT* permet de disposer les objets de la gauche vers la droite (par d\u00e9faut, c'est de haut en bas)\n",
      "- padx et pady permettent de laisser un petit espace entre les widgets pour a\u00e9rer la disposition"
     ]
    },
    {
     "cell_type": "heading",
     "level": 1,
     "metadata": {},
     "source": [
      "A vous de jouer"
     ]
    },
    {
     "cell_type": "markdown",
     "metadata": {},
     "source": [
      "Modifier cette application afin d'afficher le nombre de 6 qui ont \u00e9t\u00e9 tir\u00e9s et le nombre de coups au total. Vous pouvez vous inspirer de l'illustration ci-dessous :\n",
      "![](http://s25.postimg.org/xv9w4zky7/Capture_du_2014_11_15_17_44_29.png)"
     ]
    },
    {
     "cell_type": "code",
     "collapsed": false,
     "input": [
      "from tkinter import *\n",
      "from random import *\n",
      "\n",
      "# Votre programme ici\n"
     ],
     "language": "python",
     "metadata": {},
     "outputs": []
    },
    {
     "cell_type": "code",
     "collapsed": false,
     "input": [],
     "language": "python",
     "metadata": {},
     "outputs": []
    }
   ],
   "metadata": {}
  }
 ]
}