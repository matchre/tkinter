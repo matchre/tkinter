{
 "metadata": {
  "name": "",
  "signature": "sha256:e671f5158aada9bb817a315532789d3c3d23331ecf607c338644246a61073ea8"
 },
 "nbformat": 3,
 "nbformat_minor": 0,
 "worksheets": [
  {
   "cells": [
    {
     "cell_type": "markdown",
     "metadata": {},
     "source": [
      "Afin de pouvoir personnaliser votre classeur sans d\u00e9truire le classeur sur lequel travaille votre voisin, vous allez tout d'abord aller dans le menu **`File`** puis **`Make a copy...`**. Renommez le classeur en ajoutant votre nom \u00e0 la fin du nom de fichier par exemple."
     ]
    },
    {
     "cell_type": "heading",
     "level": 1,
     "metadata": {},
     "source": [
      "Capture d'un \u00e9v\u00e9nement souris sur un Canvas"
     ]
    },
    {
     "cell_type": "markdown",
     "metadata": {},
     "source": [
      "Dans cet exemple, on dessine un carr\u00e9 sur un Canvas \u00e0 l\u2019endroit du clic de la souris. Pour cela, on utilise l\u2019\u00e9v\u00e9nement associ\u00e9 au clic gauche de la souris :\n",
      "![](http://s25.postimg.org/n9qhccvkf/Capture_du_2014_11_16_09_42_44.png)"
     ]
    },
    {
     "cell_type": "code",
     "collapsed": false,
     "input": [
      "from tkinter import *\n",
      "\n",
      "def Clic(event):\n",
      "    \"\"\" Gestion de l'\u00e9v\u00e9nement Clic gauche sur la zone graphique \"\"\"\n",
      "    # position du pointeur de la souris\n",
      "    X = event.x\n",
      "    Y = event.y\n",
      "    # on dessine un carr\u00e9\n",
      "    r = 20\n",
      "    Canevas.create_rectangle(X-r, Y-r, X+r, Y+r, outline='black',fill='green')\n",
      "\n",
      "def Effacer():\n",
      "    \"\"\" Efface la zone graphique \"\"\"\n",
      "    Canevas.delete(ALL)\n",
      "\n",
      "# Cr\u00e9ation de la fen\u00eatre principale\n",
      "Mafenetre = Tk()\n",
      "Mafenetre.title('Carr\u00e9s')\n",
      "\n",
      "# Cr\u00e9ation d'un widget Canvas\n",
      "Largeur = 480\n",
      "Hauteur = 320\n",
      "Canevas = Canvas(Mafenetre, width = Largeur, height =Hauteur, bg ='white')\n",
      "\n",
      "# La m\u00e9thode bind() permet de lier un \u00e9v\u00e9nement avec une fonction :\n",
      "# un clic gauche sur le canvas provoquera l'appel de la fonction Clic()\n",
      "Canevas.bind('<Button-1>', Clic)\n",
      "Canevas.pack(padx =5, pady =5)\n",
      "\n",
      "# Cr\u00e9ation d'un widget Button (bouton Effacer)\n",
      "Button(Mafenetre, text ='Effacer', command = Effacer).pack(side=LEFT,padx = 5,pady = 5)\n",
      "# Cr\u00e9ation d'un widget Button (bouton Quitter)\n",
      "Button(Mafenetre, text ='Quitter', command = Mafenetre.destroy).pack(side=LEFT)\n",
      "\n",
      "Mafenetre.mainloop()"
     ],
     "language": "python",
     "metadata": {},
     "outputs": []
    },
    {
     "cell_type": "heading",
     "level": 2,
     "metadata": {},
     "source": [
      "Capture du clic de souris"
     ]
    },
    {
     "cell_type": "markdown",
     "metadata": {},
     "source": [
      "Pour r\u00e9aliser cet exemple, nous devons\n",
      "- appeler une fonction de notre choix lorsqu'un clic de souris est effectu\u00e9\n",
      "- r\u00e9cup\u00e9rer les coordonn\u00e9es sur le Canvas du clic de souris\n",
      "\n",
      "La premi\u00e8re action est r\u00e9alis\u00e9e par la ligne :\n",
      "\n",
      "    Canevas.bind('<Button-1>', Clic)\n",
      "Cette nouvelle m\u00e9thode **bind()** permet d'associer un \u00e9v\u00e9nement \u00e0 une fonction, ici la fonction **Clic()**. \n",
      "\n",
      "L'\u00e9v\u00e9nement que nous souhaitons capturer est **< Button-1 >**. Cet \u00e9v\u00e9nement est pr\u00e9d\u00e9fini dans TKinter et correspond \u00e0 un clic gauche de souris.\n",
      "\n",
      "La fonction **clic()** qui r\u00e9cup\u00e8re le clic de souris accepte un argument **event** qui est pass\u00e9 autoimatiquement par tkinter. **event** est un objet qui poss\u00e8de deux attributs int\u00e9ressants pour notre probl\u00e8me : *event.x* et *event.y* qui sont les coordonn\u00e9es de la souris sur le Canvas."
     ]
    },
    {
     "cell_type": "heading",
     "level": 1,
     "metadata": {},
     "source": [
      "A vous de jouer"
     ]
    },
    {
     "cell_type": "markdown",
     "metadata": {},
     "source": [
      "Vous allez r\u00e9aliser votre premier logiciel de dessin ! L'id\u00e9e est de dessiner une ligne lorsque le bouton de la souris reste enfonc\u00e9. Voici ce que vous devrez obtenir :\n",
      "![](http://s25.postimg.org/yomygz7wv/Capture_du_2014_11_16_09_57_02.png)"
     ]
    },
    {
     "cell_type": "heading",
     "level": 2,
     "metadata": {},
     "source": [
      "Quelques indications"
     ]
    },
    {
     "cell_type": "markdown",
     "metadata": {},
     "source": [
      "Pour r\u00e9aliser cet exercice, vous aurez besoin de d\u00e9tecter un nouvel \u00e9v\u00e9nement sur le Canvas : le d\u00e9placement de la souris avec le bouton enfonc\u00e9. Le nom TKinter pour cet \u00e9v\u00e9nement est **< B1-Motion >**. Son utilisation est identique \u00e0 celui de l'exemple.\n",
      "\n",
      "Pour dessiner, vous utiliserez la m\u00e9thode **create_line(X1,Y1,X2,Y2)** de Canvas o\u00f9 $M1(X1,Y1)$ est l'origine du segment et $M2(X2,Y2)$ est l'extr\u00e9mit\u00e9 du segment.\n",
      "\n",
      "Du coup, vous aurez probablement besoin de m\u00e9moriser en plus de la position actuelle de la souris, sa position ant\u00e9rieure afin de tracer le segment entre les deux positions. Peut-\u00eatre aurez-vous besoin de recourir \u00e0 des *variables globales*."
     ]
    },
    {
     "cell_type": "code",
     "collapsed": false,
     "input": [
      "from tkinter import *\n",
      "\n",
      "# Ecrivez votre code ici\n"
     ],
     "language": "python",
     "metadata": {},
     "outputs": []
    },
    {
     "cell_type": "code",
     "collapsed": false,
     "input": [],
     "language": "python",
     "metadata": {},
     "outputs": []
    }
   ],
   "metadata": {}
  }
 ]
}