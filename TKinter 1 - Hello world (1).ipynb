{
 "metadata": {
  "name": "",
  "signature": "sha256:7b1bf8ede54eec06dd25920d10b48afe5b2b9f4a3493f050b2450862fbebd8b6"
 },
 "nbformat": 3,
 "nbformat_minor": 0,
 "worksheets": [
  {
   "cells": [
    {
     "cell_type": "markdown",
     "metadata": {},
     "source": [
      "Afin de pouvoir personnaliser votre classeur sans d\u00e9truire le classeur sur lequel travaille votre voisin, vous allez tout d'abord aller dans le menu **`File`** puis **`Make a copy...`**. Renommez le classeur en ajoutant votre nom \u00e0 la fin du nom de fichier par exemple."
     ]
    },
    {
     "cell_type": "heading",
     "level": 1,
     "metadata": {},
     "source": [
      "TKinter 1 - Hello world"
     ]
    },
    {
     "cell_type": "heading",
     "level": 2,
     "metadata": {},
     "source": [
      "Concept d\u2019interface graphique"
     ]
    },
    {
     "cell_type": "markdown",
     "metadata": {},
     "source": [
      "Jusqu\u2019\u00e0 pr\u00e9sent, nous avons utilis\u00e9 Python exclusivement \u00ab en mode texte \u00bb. Cela nous a permis d\u2019apprendre les rudiments du langage et de d\u00e9buter le projet final dans une version simple mais fonctionnelle. Il est temps \u00e0 pr\u00e9sent de donner une allure plus moderne et plus ergonomique \u00e0 nos programmes en utilisant une interface graphique.\n",
      "\n",
      "Ce qui va suivre ne constitue qu'une premi\u00e8re approche, car ce domaine des interfaces graphiques peut tr\u00e8s vite faire intervenir des notions de programmation assez complexe, en particulier ce qu'on appelle la **Programmation Orient\u00e9e Objet** (POO). Nous ne ferons ici qu'effleurer en surface la POO pour construire des programmes simples. Dans le cadre de cette approche, nous nous limiterons \u00e0 Tkinter. D'autres syst\u00e8mes d'interfaces graphiques, plus ou moins \u00e9labor\u00e9s existent."
     ]
    },
    {
     "cell_type": "heading",
     "level": 2,
     "metadata": {},
     "source": [
      "Premier contact"
     ]
    },
    {
     "cell_type": "markdown",
     "metadata": {},
     "source": [
      "Dans l'exemple qui suit, nous allons cr\u00e9er une fen\u00eatre tr\u00e8s simple, et y ajouter deux composants graphiques (widgets) typiques : un bout de texte (ou label) et un bouton (ou button).\n",
      "\n",
      "Nous utiliserons IPython pour illustrer nos exemples : l'aspect interactif favorisant la d\u00e9couverte des nouvelles notions. Pour la r\u00e9alisation d'un gros projet, il peut \u00eatre pr\u00e9f\u00e9reable d'utiliser un v\u00e9ritable environnement de d\u00e9veloppement cependant."
     ]
    },
    {
     "cell_type": "code",
     "collapsed": false,
     "input": [
      "from tkinter import *"
     ],
     "language": "python",
     "metadata": {},
     "outputs": [],
     "prompt_number": 2
    },
    {
     "cell_type": "code",
     "collapsed": false,
     "input": [
      "fen1 = Tk()\n",
      "tex1 = Label(fen1, text='Bonjour tout le monde !', fg='red')\n",
      "\n",
      "bou1 = Button(fen1, text='Quitter', command = fen1.destroy)\n",
      "bou1.pack()\n",
      "tex1.pack()\n",
      "fen1.mainloop()"
     ],
     "language": "python",
     "metadata": {},
     "outputs": []
    },
    {
     "cell_type": "heading",
     "level": 2,
     "metadata": {},
     "source": [
      "Explications"
     ]
    },
    {
     "cell_type": "markdown",
     "metadata": {},
     "source": [
      "La premi\u00e8re ligne de notre exemple :\n",
      "\n",
      "    from tkinter import *\n",
      "consiste \u00e0 importer toutes les *classes* contenues dans le module *tkinter*. Nous devrons de plus en plus souvent parler de ces *classes*."
     ]
    },
    {
     "cell_type": "markdown",
     "metadata": {},
     "source": [
      "\u00c0 la deuxi\u00e8me ligne de notre exemple : \n",
      "\n",
      "    fen1 = Tk()\n",
      "nous utilisons l'une des classes du module *tkinter*, la classe *Tk()*, et nous en cr\u00e9ons une instance, \u00e0 savoir la fen\u00eatre *fen1*.\n",
      "\n",
      "Cette instruction d'instanciation ressemble \u00e0 une simple affectation de variable. Comprenons bien cependant qu'il se passe ici deux choses \u00e0 la fois :\n",
      "- la cr\u00e9ation d'un nouvel objet, (lequel peut \u00eatre complexe et donc occuper un espace m\u00e9moire consid\u00e9rable)\n",
      "- l'affectation d'une variable qui va d\u00e9sormais servir de r\u00e9f\u00e9rence pour manipuler l'objet"
     ]
    },
    {
     "cell_type": "markdown",
     "metadata": {},
     "source": [
      "A la troisi\u00e8me ligne : \n",
      "\n",
      "    *tex1 = Label(fen1, text='Bonjour tout le monde !', fg='red')\n",
      "nous cr\u00e9ons un autre objet (un **widget**), cette fois \u00e0 partir de la classe *Label()*. Comme son nom l'indique, cette classe d\u00e9finit toutes sortes d'\u00e9tiquettes. En fait, il s'agit tout simplement de fragments de texte quelconques, utilisables pour afficher des informations et des messages divers \u00e0 l'int\u00e9rieur d'une fen\u00eatre. Nous fournissons un certain nombre d'arguments dans des parenth\u00e8ses.:\n",
      "\n",
      "Le premier argument transmis (*fen1*), indique que le nouveau widget que nous sommes en train de cr\u00e9er sera contenu dans un autre widget pr\u00e9existant, que nous d\u00e9signons comme le **parent** (On pourra dire aussi que l'objet *tex1* est un **enfant** de l'objet *fen1*).\n",
      "\n",
      "Les deux arguments suivants servent \u00e0 pr\u00e9ciser la forme exacte que doit prendre notre widget. Ce sont en effet deux options de cr\u00e9ation, chacune fournie sous la forme d'une cha\u00eene de caract\u00e8res : d'abord le texte de l'\u00e9tiquette, ensuite sa couleur d'avant-plan (ou foreground, en abr\u00e9g\u00e9 fg). Ainsi le texte que nous voulons afficher est bien d\u00e9fini, et il doit appara\u00eetre color\u00e9 en rouge.\n",
      "Nous pourrions encore pr\u00e9ciser bien d'autres caract\u00e9ristiques : la police \u00e0 utiliser, ou la couleur d'arri\u00e8re-plan, par exemple.\n",
      "\n",
      "\u00c0 la quatri\u00e8me ligne de notre exemple : \n",
      "    tex1.pack()\n",
      "nous activons la m\u00e9thode *pack()*. Nous avons d\u00e9j\u00e0 rencontr\u00e9 ce terme de m\u00e9thode (\u00e0 propos des listes, notamment). Une m\u00e9thode est une fonction int\u00e9gr\u00e9e \u00e0 un objet.\n",
      "\n",
      "Un **objet** informatique est en fait un morceau de programme contenant toujours :\n",
      "Un certain nombre de **donn\u00e9es** (num\u00e9riques ou autres), contenues dans des variables de types divers : on les appelle les *attributs* (ou les propri\u00e9t\u00e9s) de l'objet.\n",
      "Un certain nombre de proc\u00e9dures ou de **fonctions** (qui sont donc des algorithmes) : on les appelle les *m\u00e9thodes* de l'objet.\n",
      "\n",
      "La m\u00e9thode *pack()* permet de disposer les widgets dans la fen\u00eatre parent, les uns en dessous des autres. Pour faire simple, elle permet de disposer les diff\u00e9rents objets graphiques dans la fen\u00eatre."
     ]
    },
    {
     "cell_type": "markdown",
     "metadata": {},
     "source": [
      "A la cinqui\u00e8me ligne : \n",
      "\n",
      "    bou1 = Button(fen1, text='Quitter', command = fen1.destroy)\n",
      "nous cr\u00e9ons notre second widget enfant : un **bouton**. Comme nous l'avons fait pour le widget pr\u00e9c\u00e9dent, nous appelons la classe *Button()* en fournissant entre parenth\u00e8ses un certain nombre d'arguments. \u00c9tant donn\u00e9 qu'il s'agit cette fois d'un objet interactif, nous devons pr\u00e9ciser avec l'option **command** ce qui devra se passer lorsque l'utilisateur effectuera un clic sur le bouton. Dans ce cas pr\u00e9cis, nous actionnerons la m\u00e9thode *destroy* associ\u00e9e \u00e0 l'objet *fen1*, ce qui devrait provoquer l'effacement de la fen\u00eatre."
     ]
    },
    {
     "cell_type": "markdown",
     "metadata": {},
     "source": [
      "La sixi\u00e8me ligne utilise la m\u00e9thode *pack()* pour adapter la g\u00e9om\u00e9trie de la fen\u00eatre au nouveau bouton que nous venons d'y int\u00e9grer."
     ]
    },
    {
     "cell_type": "markdown",
     "metadata": {},
     "source": [
      "La septi\u00e8me ligne : \n",
      "\n",
      "    fen1.mainloop()\n",
      "est tr\u00e8s importante, parce que c'est elle qui provoque le d\u00e9marrage du r\u00e9ceptionnaire d'**\u00e9v\u00e9nements** associ\u00e9 \u00e0 la fen\u00eatre. Cette instruction est n\u00e9cessaire pour que votre application soit \u00ab \u00e0 l'aff\u00fbt \u00bb des clics de souris, des pressions exerc\u00e9es sur les touches du clavier, etc. C'est donc cette instruction qui \u00ab la met en marche \u00bb, en quelque sorte. Comme son nom l'indique (*mainloop*), il s'agit d'une m\u00e9thode de l'objet *fen1*, qui active une boucle de programme, laquelle \u00ab tournera \u00bb en permanence en t\u00e2che de fond, dans l'attente de messages \u00e9mis par le syst\u00e8me d'exploitation de l'ordinateur. Celui-ci interroge en effet sans cesse son environnement, notamment au niveau des p\u00e9riph\u00e9riques d'entr\u00e9e (souris, clavier, etc.). Lorsqu'un \u00e9v\u00e9nement quelconque est d\u00e9tect\u00e9, divers messages d\u00e9crivant cet \u00e9v\u00e9nement sont exp\u00e9di\u00e9s aux programmes qui souhaitent en \u00eatre avertis. Voyons cela un peu plus en d\u00e9tail.\n",
      "\n",
      "Pour vous convaincre de l'utilit\u00e9 de la mainloop, recopiez dans la cellule ci-dessous le programme pr\u00e9c\u00e9dent en retirant la derni\u00e8re ligne. Que se passe t-il ?"
     ]
    },
    {
     "cell_type": "code",
     "collapsed": false,
     "input": [
      "# Recopiez votre programme ici"
     ],
     "language": "python",
     "metadata": {},
     "outputs": []
    },
    {
     "cell_type": "markdown",
     "metadata": {},
     "source": [
      "Rien ne se passe ? Pourtant, des objets ont \u00e9t\u00e9 cr\u00e9\u00e9s et dispos\u00e9s dans la fen\u00eatre !\n",
      "\n",
      "C'est normal. Validez \u00e0 pr\u00e9sent la cellule ci-dessous :"
     ]
    },
    {
     "cell_type": "code",
     "collapsed": false,
     "input": [
      "mainloop()"
     ],
     "language": "python",
     "metadata": {},
     "outputs": []
    },
    {
     "cell_type": "markdown",
     "metadata": {},
     "source": [
      "Votre application prend vie gr\u00e2ce \u00e0 la mainloop. Elle est en mesure de r\u00e9agir \u00e0 vos actions."
     ]
    },
    {
     "cell_type": "heading",
     "level": 2,
     "metadata": {},
     "source": [
      "Programmes pilot\u00e9s par \u00e9v\u00e9nements"
     ]
    },
    {
     "cell_type": "markdown",
     "metadata": {},
     "source": [
      "Dans les programmes que vous avez r\u00e9alis\u00e9 jusqu'\u00e0 pr\u00e9sent, l'\u00e9x\u00e9cution se d\u00e9roulait de mani\u00e8rre lin\u00e9aire du d\u00e9but \u00e0 la fin. Souvent, vous commencez par initialiser des variables, puis vous ex\u00e9cutez une ou plusieurs actions dans un ordre bien d\u00e9fini et enfin, vous affichez le r\u00e9sultat de votre travail."
     ]
    },
    {
     "cell_type": "markdown",
     "metadata": {},
     "source": [
      "Dans le cas d\u2019un programme qui utilise une interface graphique, par contre, l\u2019organisation interne est diff\u00e9rente. On dit d\u2019un tel programme qu\u2019il est pilot\u00e9 par les \u00e9v\u00e9nements. Apr\u00e8s sa phase d\u2019initialisation, un programme de ce type se met en quelque sorte \u00ab en attente \u00bb, et passe la main \u00e0 un autre logiciel, lequel est plus ou moins intimement int\u00e9gr\u00e9 au syst\u00e8me d\u2019exploitation de l\u2019ordinateur et \u00ab tourne \u00bb en permanence.\n",
      "![](http://upload.wikimedia.org/wikipedia/commons/thumb/6/64/Apprendre_%C3%A0_programmer_avec_Python_17.png/500px-Apprendre_%C3%A0_programmer_avec_Python_17.png)\n",
      "\n",
      "Ce r\u00e9ceptionnaire d\u2019\u00e9v\u00e9nements scrute sans cesse tous les p\u00e9riph\u00e9riques (clavier, souris, etc.) et r\u00e9agit imm\u00e9diatement lorsqu\u2019un \u00e9v\u00e9nement y est d\u00e9tect\u00e9. Un tel \u00e9v\u00e9nement peut \u00eatre une action quelconque de l\u2019utilisateur : d\u00e9placement de la souris, appui sur une touche, etc., mais aussi un \u00e9v\u00e9nement externe ou un automatisme (top d\u2019horloge, par ex.) Lorsqu\u2019il d\u00e9tecte un \u00e9v\u00e9nement, le r\u00e9ceptionnaire envoie un message sp\u00e9cifique au programme, lequel doit \u00eatre con\u00e7u pour r\u00e9agir en cons\u00e9quence.\n",
      "Dans le cas d\u2019un programme avec interface graphique, l\u2019ordre dans lequel les fonctions sont appel\u00e9es n\u2019est plus inscrit nulle part dans le programme. Ce sont les \u00e9v\u00e9nements qui pilotent !"
     ]
    },
    {
     "cell_type": "heading",
     "level": 1,
     "metadata": {},
     "source": [
      "A vous de jouer"
     ]
    },
    {
     "cell_type": "markdown",
     "metadata": {},
     "source": [
      "En vous aidant du programme donn\u00e9 au d\u00e9but de ce classeur, r\u00e9alisez une application d'apparence semblable \u00e0 ceci :\n",
      "![](http://s25.postimg.org/nvezp39or/Capture_du_2014_11_15_17_10_33.png)"
     ]
    },
    {
     "cell_type": "code",
     "collapsed": false,
     "input": [
      "from tkinter import *\n",
      "\n",
      "# Ecrivez votre code ici\n"
     ],
     "language": "python",
     "metadata": {},
     "outputs": []
    },
    {
     "cell_type": "code",
     "collapsed": false,
     "input": [],
     "language": "python",
     "metadata": {},
     "outputs": []
    }
   ],
   "metadata": {}
  }
 ]
}