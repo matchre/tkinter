{
 "metadata": {
  "name": "",
  "signature": "sha256:192f07853b22e2d9079c758591a9c6a070710a3e3605b990b758cae20ce9d0fa"
 },
 "nbformat": 3,
 "nbformat_minor": 0,
 "worksheets": [
  {
   "cells": [
    {
     "cell_type": "markdown",
     "metadata": {},
     "source": [
      "Afin de pouvoir personnaliser votre classeur sans d\u00e9truire le classeur sur lequel travaille votre voisin, vous allez tout d'abord aller dans le menu **`File`** puis **`Make a copy...`**. Renommez le classeur en ajoutant votre nom \u00e0 la fin du nom de fichier par exemple."
     ]
    },
    {
     "cell_type": "heading",
     "level": 1,
     "metadata": {},
     "source": [
      "D\u00e9couverte des Canvas"
     ]
    },
    {
     "cell_type": "markdown",
     "metadata": {},
     "source": [
      "les Canvas sont des objets tr\u00e8s utilis\u00e9s sous TKinter puisque ce sont en fait des surfaces sur lesquelles on peut dessiner ou disposer des images. \n",
      "\n",
      "Le programme suivant dessine, \u00e0 chaque clic sur le bouton Go, un disque de rayon 20 pixels \u00e0 une position al\u00e9atoire :\n",
      "\n",
      "![](http://s25.postimg.org/it2981psf/Capture_du_2014_11_15_18_40_36.png)\n",
      "\n",
      "Regardons sans plus attendre ce programme. Nous nous attarderons sur les aspects li\u00e9s au Canvas car le reste est archi classique pour vous \u00e0 pr\u00e9sent."
     ]
    },
    {
     "cell_type": "code",
     "collapsed": false,
     "input": [
      "from tkinter import *\n",
      "import random\n",
      "\n",
      "def Cercle():\n",
      "    \"\"\" Dessine un cercle de centre (x,y) et de rayon r \"\"\"\n",
      "    x = random.randint(0,Largeur)\n",
      "    y = random.randint(0,Hauteur)\n",
      "    r = 20\n",
      "    Canevas.create_oval(x-r, y-r, x+r, y+r, outline='blue', fill='blue')\n",
      "\n",
      "def Effacer():\n",
      "    \"\"\" Efface la zone graphique \"\"\"\n",
      "    Canevas.delete(ALL)\n",
      "\n",
      "# Cr\u00e9ation de la fen\u00eatre principale (main window)\n",
      "Mafenetre = Tk()\n",
      "Mafenetre.title('Cercle')\n",
      "\n",
      "# Cr\u00e9ation d'un widget Canvas (zone graphique)\n",
      "Largeur = 480\n",
      "Hauteur = 320\n",
      "Canevas = Canvas(Mafenetre, width = Largeur, height =Hauteur, bg ='white')\n",
      "Canevas.pack(padx =5, pady =5)\n",
      "\n",
      "# Cr\u00e9ation d'un widget Button (bouton Go)\n",
      "BoutonGo = Button(Mafenetre, text ='Go', command = Cercle)\n",
      "BoutonGo.pack(side = LEFT, padx = 10, pady = 10)\n",
      "\n",
      "# Cr\u00e9ation d'un widget Button (bouton Effacer)\n",
      "BoutonEffacer = Button(Mafenetre, text ='Effacer', command = Effacer)\n",
      "BoutonEffacer.pack(side = LEFT, padx = 5, pady = 5)\n",
      "\n",
      "# Cr\u00e9ation d'un widget Button (bouton Quitter)\n",
      "BoutonQuitter = Button(Mafenetre, text ='Quitter', command = Mafenetre.destroy)\n",
      "BoutonQuitter.pack(side = LEFT, padx = 5, pady = 5)\n",
      "\n",
      "Mafenetre.mainloop()"
     ],
     "language": "python",
     "metadata": {},
     "outputs": []
    },
    {
     "cell_type": "heading",
     "level": 2,
     "metadata": {},
     "source": [
      "Explications sur le Canvas"
     ]
    },
    {
     "cell_type": "markdown",
     "metadata": {},
     "source": [
      "La nouveaut\u00e9 r\u00e9side ici dans l\u2019utilisation du widget Canvas. Celui-ci permet de dessiner sur un espace d\u00e9fini de la fen\u00eatre des formes g\u00e9om\u00e9triques (cercles, droites, polygones), des images (cartes \u00e0 jouer, ...) ou du texte.\n",
      "\n",
      "Les m\u00e9thodes \u00e0 remarquer ici sont \n",
      "- create_oval pour dessiner un cercle  \n",
      "    Canevas.create_oval(x-r, y-r, x+r, y+r, outline='blue', fill='blue')\n",
      "    \n",
      "    \n",
      "- delete(ALL) pour effacer le canvas. \n",
      "\n",
      "Les propri\u00e9t\u00e9s remarquables du canvas sont ici **width** et **height** qui d\u00e9signent respectivement la largeur et la hauteur en pixels. Du coup, la surface Canvas se cr\u00e9e de la mani\u00e8re suivante :\n",
      "\n",
      "    Canvas(Mafenetre, width = Largeur, height =Hauteur, bg ='white')\n",
      "\n",
      "Les coordonn\u00e9es sur le canvas s\u2019expriment en *pixels*. Le **(0,0)** se trouve **en haut \u00e0 gauche**. On remarquera que l\u2019axe des ordonn\u00e9es est donc tourn\u00e9 *vers le bas*."
     ]
    },
    {
     "cell_type": "heading",
     "level": 1,
     "metadata": {},
     "source": [
      "A vous de jouer"
     ]
    },
    {
     "cell_type": "markdown",
     "metadata": {},
     "source": [
      "Modifier l'exemple ci-dessus pour \n",
      "- faire une couleur de fond noire\n",
      "- afficher des rectangles verts de 20x10 pixels\n",
      "\n",
      "On pourra utiliser la m\u00e9thode **create_rectangle** dont l'utilisation est similaire \u00e0 **create_oval**\n",
      "\n",
      "Les canvas \u00e9tant des objers tr\u00e8s riches, il peut \u00eatre utile de se r\u00e9f\u00e9rer \u00e0 la doc officielle de TKinter pour tirer parti de cette richesse :\n",
      "[Documentation officielle de TKinter / Canvas](http://effbot.org/tkinterbook/canvas.htm)"
     ]
    },
    {
     "cell_type": "code",
     "collapsed": false,
     "input": [
      "from tkinter import *\n",
      "import random\n",
      "\n",
      "#Ecrivez votre code ici"
     ],
     "language": "python",
     "metadata": {},
     "outputs": []
    },
    {
     "cell_type": "code",
     "collapsed": false,
     "input": [],
     "language": "python",
     "metadata": {},
     "outputs": []
    }
   ],
   "metadata": {}
  }
 ]
}