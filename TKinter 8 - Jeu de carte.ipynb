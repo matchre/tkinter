{
 "metadata": {
  "name": "",
  "signature": "sha256:1150c319d6e43887726aae567d406e9f05c002c54f8cd09730913d63179a4a52"
 },
 "nbformat": 3,
 "nbformat_minor": 0,
 "worksheets": [
  {
   "cells": [
    {
     "cell_type": "markdown",
     "metadata": {},
     "source": [
      "Afin de pouvoir personnaliser votre classeur sans d\u00e9truire le classeur sur lequel travaille votre voisin, vous allez tout d'abord aller dans le menu **`File`** puis **`Make a copy...`**. Renommez le classeur en ajoutant votre nom \u00e0 la fin du nom de fichier par exemple."
     ]
    },
    {
     "cell_type": "heading",
     "level": 1,
     "metadata": {},
     "source": [
      "Jeu de carte"
     ]
    },
    {
     "cell_type": "code",
     "collapsed": false,
     "input": [
      "# On r\u00e9cup\u00e8re les cartes du classeur pySide...\n",
      "!cp ../pySide/carte*.gif ."
     ],
     "language": "python",
     "metadata": {},
     "outputs": []
    },
    {
     "cell_type": "markdown",
     "metadata": {},
     "source": [
      "Le programme suivant dessine une carte sur un canvas. Un clic gauche avec la souris sur la carte retourne celle-ci.\n",
      "![](http://s25.postimg.org/sdmceaw27/Capture_du_2014_11_16_10_53_55.png)\n",
      "\n",
      "Voici le programme. Testez-le"
     ]
    },
    {
     "cell_type": "code",
     "collapsed": false,
     "input": [
      "from tkinter import *\n",
      "\n",
      "def changeCarte(event):\n",
      "    \"\"\"Changement de carte si clic sur la carte\"\"\"\n",
      "    global noImage,imageGif\n",
      "    # On verifie que le clic a eu lieu sur la carte\n",
      "    if event.x>50 and event.x<195 and event.y>10 and event.y<210:\n",
      "        noImage=noImage%2+1 # echange du no de carte\n",
      "        imageGif=PhotoImage(file=\"carte\"+str(noImage)+\".gif\")\n",
      "        # On charge la nouvelle image\n",
      "        can1.itemconfigure(maCarte,image=imageGif)\n",
      "\n",
      "noImage=1 # Variable globale vonteant le No de carte\n",
      "maFenetre=Tk()\n",
      "maFenetre.title(\"Jeu de carte\")\n",
      "\n",
      "# Creation du canvas et liaison avec le clic de souris\n",
      "can1 = Canvas(maFenetre, width =240, height =240, bg ='white')\n",
      "can1.bind(\"<Button-1>\",changeCarte)\n",
      "can1.pack()\n",
      "\n",
      "# Bouton quitter\n",
      "btn=Button(maFenetre,text=\"Quitter\",command=maFenetre.destroy)\n",
      "btn.pack(side=BOTTOM,padx=5,pady=5)\n",
      "\n",
      "# Placement de l'image initiale designee par \"maCarte\" sur le canvas\n",
      "imageGif=PhotoImage(file=\"carte1.gif\")\n",
      "maCarte = can1.create_image((50, 10), image =imageGif, anchor=\"nw\")\n",
      "\n",
      "maFenetre.mainloop()"
     ],
     "language": "python",
     "metadata": {},
     "outputs": [],
     "prompt_number": 1
    },
    {
     "cell_type": "heading",
     "level": 2,
     "metadata": {},
     "source": [
      "Affichage d'un fichier gif sur un Canvas"
     ]
    },
    {
     "cell_type": "markdown",
     "metadata": {},
     "source": [
      "L'affichage d'un fichier .gif sur un Canvas se fait simplement \u00e0 l'aide de ces deux lignes :\n",
      "\n",
      "    imageGif=PhotoImage(file=\"carte1.gif\")\n",
      "    maCarte = can1.create_image((50, 10), image =imageGif, anchor=\"nw\")\n",
      "La premi\u00e8re ligne charge l'image en m\u00e9moire dans l'objet *imageGif*, et la seconde se charge de l'affichage sur le Canvas aux coordonn\u00e9es indiqu\u00e9es. Le anchor sert \u00e0 indiquer que les coordonn\u00e9es don\u00e9es sont celles du coin sup\u00e9rieur gauche.\n",
      "\n",
      "Dans le reste du programme, l'objet image sur le Canvas sera accessible via la variable *maCarte*."
     ]
    },
    {
     "cell_type": "heading",
     "level": 2,
     "metadata": {},
     "source": [
      "Retournement de la carte"
     ]
    },
    {
     "cell_type": "markdown",
     "metadata": {},
     "source": [
      "Pour retourner la carte, on doit reconfigurer l'objet *maCarte* du canvas afin de modifier son attribut image sur l'autre face de l'image. Cela se fait gr\u00e0ce \u00e0  la m\u00e9thode **itemconfigure()** du Canvas :\n",
      "\n",
      "    can1.itemconfigure(maCarte,image=imageGif)\n",
      "Le reste de la fonction changeCarte est assez explicite : il s'agit de charger alternativement l'image carte1.gif ou carte2.gif. On utilise pour cela une petite astuce utilisant l'op\u00e9ration modulo :\n",
      "    \n",
      "    noImage=noImage%2+1 # echange du no de carte\n",
      "    imageGif=PhotoImage(file=\"carte\"+str(noImage)+\".gif\")\n",
      "Pour finir, on s'assure de ne retourner la carte que si le clic a \u00e9t\u00e9 fait dans la zone de la carte. Comme on cona\u00eet les coordonn\u00e9es du clic, un b\u00eate test se charge de cette v\u00e9rification."
     ]
    },
    {
     "cell_type": "code",
     "collapsed": false,
     "input": [],
     "language": "python",
     "metadata": {},
     "outputs": []
    }
   ],
   "metadata": {}
  }
 ]
}