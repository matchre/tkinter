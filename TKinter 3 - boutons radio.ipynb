{
 "metadata": {
  "name": "",
  "signature": "sha256:6025d33445d38368a2b2e805f3e1dade9e127608e741d4bbc37f4011b5640995"
 },
 "nbformat": 3,
 "nbformat_minor": 0,
 "worksheets": [
  {
   "cells": [
    {
     "cell_type": "markdown",
     "metadata": {},
     "source": [
      "Afin de pouvoir personnaliser votre classeur sans d\u00e9truire le classeur sur lequel travaille votre voisin, vous allez tout d'abord aller dans le menu **`File`** puis **`Make a copy...`**. Renommez le classeur en ajoutant votre nom \u00e0 la fin du nom de fichier par exemple."
     ]
    },
    {
     "cell_type": "heading",
     "level": 1,
     "metadata": {},
     "source": [
      "Boutons radio"
     ]
    },
    {
     "cell_type": "markdown",
     "metadata": {},
     "source": [
      "Le programme ci-dessous illustre l\u2019utilisation des boutons radio pour cr\u00e9er un questionnaire type QCM. Un bouton radio est un bouton rond que l'on peut cocher pour indiquer un choix. Observez le r\u00e9sultat attendu :\n",
      "\n",
      "![](http://s25.postimg.org/7o8p912of/Capture_du_2014_11_15_17_52_45.png)"
     ]
    },
    {
     "cell_type": "code",
     "collapsed": false,
     "input": [
      "from tkinter import *\n",
      "\n",
      "def reponse():\n",
      "    Texte.set('Votre r\u00e9ponse est -> ' + Reponse.get())\n",
      "\n",
      "def autre_question():\n",
      "    TexteA.set(\"Quatre pattes\")\n",
      "    TexteB.set(\"Huit pattes\")\n",
      "    TexteC.set(\"Six pattes\")\n",
      "    Texte.set(\"Combien avait-il de pattes ?\")\n",
      "    Reponse.set(\"\")\n",
      "\n",
      "Mafenetre = Tk()\n",
      "Mafenetre.title('Questionnaire')\n",
      "\n",
      "Texte = StringVar() # texte variable acceuillant la question\n",
      "Texte.set(\"Quelle est la couleur du cheval blanc d'henry IV ?\")\n",
      "\n",
      "Reponse = StringVar() # texte variable accueillant la r\u00e9ponse\n",
      "\n",
      "# Cr\u00e9ation d'un widget Label\n",
      "LabelMessage = Label(Mafenetre, textvariable = Texte, fg ='red', bg ='white').pack()\n",
      "\n",
      "# Cr\u00e9ation des textes pour les r\u00e9ponses\n",
      "TexteA = StringVar()\n",
      "TexteB = StringVar()\n",
      "TexteC = StringVar()\n",
      "TexteA.set(\"Blanc\")\n",
      "TexteB.set(\"Gris\")\n",
      "TexteC.set(\"Vert\")\n",
      "\n",
      "# Cr\u00e9ation des boutons radio\n",
      "Radiobutton(Mafenetre,textvariable=TexteA,value=\"A\",variable=Reponse).pack(anchor=W)\n",
      "Radiobutton(Mafenetre,textvariable=TexteB,value=\"B\",variable=Reponse).pack(anchor=W)\n",
      "Radiobutton(Mafenetre,textvariable=TexteC,value=\"C\",variable=Reponse).pack(anchor=W)\n",
      "\n",
      "# Cr\u00e9ation des boutons\n",
      "Bouton = Button(Mafenetre, text ='R\u00e9pondre', command = reponse)\n",
      "Bouton.pack(side=LEFT,padx=5,pady=5)\n",
      "\n",
      "Bouton = Button(Mafenetre, text ='Autre', command = autre_question)\n",
      "Bouton.pack(side=LEFT,padx=5,pady=5)\n",
      "\n",
      "BoutonQuitter = Button(Mafenetre, text ='Quitter', command = Mafenetre.destroy)\n",
      "BoutonQuitter.pack(side=LEFT,padx=5,pady=5)\n",
      "\n",
      "Mafenetre.mainloop()"
     ],
     "language": "python",
     "metadata": {},
     "outputs": [],
     "prompt_number": 4
    },
    {
     "cell_type": "heading",
     "level": 2,
     "metadata": {},
     "source": [
      "Explications"
     ]
    },
    {
     "cell_type": "markdown",
     "metadata": {},
     "source": [
      "Attardons nous sur la nouveaut\u00e9 de cet exemple : les radio-bouttons. On les d\u00e9clare par une ligne de ce type :\n",
      "\n",
      "    Radiobutton(Mafenetre,textvariable=TexteA,value=\"A\",variable=Reponse)\n",
      "- Les textes variables TexteA, B et C servent \u00e0 faire varier les intitul\u00e9s des r\u00e9ponses en fonction des questions.\n",
      "- la r\u00e9ponse se fait \u00e9galement au moyen d'un texte variable : *Reponse*\n",
      "- Pour griser les boutons et ne pas proposer de r\u00e9ponse par d\u00e9faut, on positionne la r\u00e9ponse \u00e0 \"\"\n",
      "\n",
      "Le reste est \u00e0 pr\u00e9sent classique. Les commentaires diss\u00e9min\u00e9s dans le programme doivent vous permettre de comprendre cet exemple."
     ]
    },
    {
     "cell_type": "code",
     "collapsed": false,
     "input": [],
     "language": "python",
     "metadata": {},
     "outputs": []
    }
   ],
   "metadata": {}
  }
 ]
}