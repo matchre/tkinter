{
 "metadata": {
  "name": "",
  "signature": "sha256:5a9ebcbd990bf2abc35ab3073bf2c4119f2cca74e235671d67121b40c8bacde9"
 },
 "nbformat": 3,
 "nbformat_minor": 0,
 "worksheets": [
  {
   "cells": [
    {
     "cell_type": "markdown",
     "metadata": {},
     "source": [
      "Afin de pouvoir personnaliser votre classeur sans d\u00e9truire le classeur sur lequel travaille votre voisin, vous allez tout d'abord aller dans le menu **`File`** puis **`Make a copy...`**. Renommez le classeur en ajoutant votre nom \u00e0 la fin du nom de fichier par exemple."
     ]
    },
    {
     "cell_type": "heading",
     "level": 1,
     "metadata": {},
     "source": [
      "Gestion des \u00e9v\u00e9nements clavier"
     ]
    },
    {
     "cell_type": "markdown",
     "metadata": {},
     "source": [
      "Dans cette activit\u00e9, nous allons d\u00e9placer un pion sur une surface Canvas en utilisant les touches du clavier pour le diriger.\n",
      "![](http://s25.postimg.org/c17patscv/Capture_du_2014_11_16_10_34_30.png)\n",
      "\n",
      "Mais tout de suite, regardons le programme :"
     ]
    },
    {
     "cell_type": "code",
     "collapsed": false,
     "input": [
      "from tkinter import *\n",
      "\n",
      "def Clavier(event):\n",
      "    \"\"\" Gestion de l'\u00e9v\u00e9nement Appui sur une touche du clavier \"\"\"\n",
      "    global PosX,PosY\n",
      "    touche = event.char\n",
      "    # d\u00e9placement vers le haut\n",
      "    if touche == 'a':\n",
      "        PosY -= 20\n",
      "    # d\u00e9placement vers le bas\n",
      "    if touche == 'q':\n",
      "        PosY += 20\n",
      "    # d\u00e9placement vers la droite\n",
      "    if touche == 'm':\n",
      "        PosX += 20\n",
      "    # d\u00e9placement vers le haut\n",
      "    if touche == 'l':\n",
      "        PosX -= 20\n",
      "    # on dessine le pion \u00e0 sa nouvelle position\n",
      "    Canevas.coords(Pion,PosX -10, PosY -10, PosX +10, PosY +10)\n",
      "    # Cr\u00e9ation de la fen\u00eatre principale\n",
      "\n",
      "Mafenetre = Tk()\n",
      "Mafenetre.title('Pion')\n",
      "\n",
      "# position initiale du pion\n",
      "PosX = 230\n",
      "PosY = 150\n",
      "\n",
      "# Cr\u00e9ation d'un widget Canvas (zone graphique)\n",
      "Largeur = 480\n",
      "Hauteur = 320\n",
      "Canevas = Canvas(Mafenetre, width = Largeur, height =Hauteur, bg ='white')\n",
      "Pion = Canevas.create_oval(PosX-10,PosY-10,PosX+10,PosY+10,width=2,fill='red')\n",
      "Canevas.focus_set()\n",
      "Canevas.bind('<Key>',Clavier)\n",
      "Canevas.pack(padx =5, pady =5)\n",
      "\n",
      "# Cr\u00e9ation d'un widget Button (bouton Quitter)\n",
      "Button(Mafenetre, text ='Quitter', command = Mafenetre.destroy).pack(side=LEFT)\n",
      "\n",
      "Mafenetre.mainloop()"
     ],
     "language": "python",
     "metadata": {},
     "outputs": []
    },
    {
     "cell_type": "heading",
     "level": 2,
     "metadata": {},
     "source": [
      "Explications"
     ]
    },
    {
     "cell_type": "markdown",
     "metadata": {},
     "source": [
      "Tout d'abord, les coordonn\u00e9es du pion sont stock\u00e9es dans les variables globales *PosX* et *PosY*. La fonction **Clavier()** a pour but de les actualiser en fonction de la touche qui a \u00e9t\u00e9 press\u00e9e."
     ]
    },
    {
     "cell_type": "markdown",
     "metadata": {},
     "source": [
      "Pour associer l'appel de la fonction **Clavier()** lorsqu'une touche est press\u00e9e, le rpincipe est le m\u00eame que puor le clic de souris : on appelle la m\u00e9thode **bind()** du Canvas. L'\u00e9v\u00e9nement qui nous int\u00e9resse ici est d\u00e9sign\u00e9 par **< Key >**\n",
      "\n",
      "Une petite subtilit\u00e9 ici cependant : pour que le canvas capture les \u00e9v\u00e9nement clavier, il faut qu'il soit s\u00e9lectionn\u00e9 (qu'il ait le focus comme on dit). On lui donne le focus gr\u00e2ce \u00e0 la commande\n",
      "\n",
      "    Canevas.focus_set()\n",
      "Nous avons d\u00e9j\u00e0 rencontr\u00e9 cette m\u00e9thode lorsque l'on voulait passer le contr\u00f4le \u00e0 un champ de saisie, le principe est ici le m\u00eame."
     ]
    },
    {
     "cell_type": "markdown",
     "metadata": {},
     "source": [
      "La derni\u00e8re chose qu'il reste \u00e0 voir, c'est comment modifier les coordonn\u00e9es de notre pion lorsque les variables *PosX* et *PosY* ont \u00e9t\u00e9 ajust\u00e9es. Cela se fait par l'appel :\n",
      "\n",
      "    Canevas.coords(Pion,PosX -10, PosY -10, PosX +10, PosY +10)\n",
      "*Pion* d\u00e9signe ici l'objet retourn\u00e9 par la commande **create_oval()**. Cc'est l'objet Canvas qui actualise les coordonn\u00e9es du pion gr\u00e2ce \u00e0 la m\u00e9thode **coords()**."
     ]
    },
    {
     "cell_type": "heading",
     "level": 1,
     "metadata": {},
     "source": [
      "A vous de jouer"
     ]
    },
    {
     "cell_type": "markdown",
     "metadata": {},
     "source": [
      "Dans l'exemple ci-dessus, il n'y a pas de limite au d\u00e9placement du pion, m\u00eame lorsque ce dernier sort du Canvas. Modifier le programme afin que s'il sort d'un cot\u00e9 de la fen\u00eatre, il r\u00e9apparaisse de l'autre, un peu comme dans le jeu du PacMan."
     ]
    },
    {
     "cell_type": "code",
     "collapsed": false,
     "input": [
      "from tkinter import *\n",
      "\n",
      "#Votre programme ici"
     ],
     "language": "python",
     "metadata": {},
     "outputs": []
    },
    {
     "cell_type": "code",
     "collapsed": false,
     "input": [],
     "language": "python",
     "metadata": {},
     "outputs": []
    }
   ],
   "metadata": {}
  }
 ]
}