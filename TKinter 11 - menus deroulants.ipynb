{
 "metadata": {
  "name": "",
  "signature": "sha256:23a51dd934be1ce1d9002e6752af4ebb341b227ce144f225451f074358c3c81b"
 },
 "nbformat": 3,
 "nbformat_minor": 0,
 "worksheets": [
  {
   "cells": [
    {
     "cell_type": "markdown",
     "metadata": {},
     "source": [
      "Afin de pouvoir personnaliser votre classeur sans d\u00e9truire le classeur sur lequel travaille votre voisin, vous allez tout d'abord aller dans le menu **`File`** puis **`Make a copy...`**. Renommez le classeur en ajoutant votre nom \u00e0 la fin du nom de fichier par exemple."
     ]
    },
    {
     "cell_type": "heading",
     "level": 1,
     "metadata": {},
     "source": [
      "Les menus d\u00e9roulants"
     ]
    },
    {
     "cell_type": "markdown",
     "metadata": {},
     "source": [
      "La pluspart des interfaces graphiques que vous connaissez sont \u00e9quip\u00e9es de menus d\u00e9roulants. Nous allons voir dans cet exemple comment en ajouter avec TKinter.\n",
      "\n",
      "Tout d'abord, voici l'exemple :"
     ]
    },
    {
     "cell_type": "code",
     "collapsed": false,
     "input": [
      "from tkinter import *\n",
      "\n",
      "root=Tk()\n",
      "root.geometry(\"200x50\")\n",
      "\n",
      "def chtitre(choix):\n",
      "    root.title(choix)\n",
      "\n",
      "def chcolor(choix):\n",
      "    root.tk_setPalette(choix)\n",
      "    \n",
      "# Creation de la barre de menu:\n",
      "menu1 = Menu(root)\n",
      "\n",
      "# Creation du sous-menu fichier:\n",
      "fichier = Menu(menu1, tearoff=0)\n",
      "\n",
      "# Nomme \"Fichier\" l'entete a la racine du menu \"fichier\":\n",
      "menu1.add_cascade(label=\"Fichier\",menu=fichier)\n",
      "\n",
      "# Inscrit \"Quitter\" dans ce menu et l'associe a la commande gestionnaire\n",
      "fichier.add_command(label=\"Quitter\", command=root.destroy)\n",
      "\n",
      "# Creation du sous-menu cascad:\n",
      "cascad = Menu(menu1, tearoff=0)\n",
      "menu1.add_cascade(label=\"Cascade\",menu=cascad)\n",
      "\n",
      "# Creation du sous-menu \"Titre\" (de cascad)\n",
      "titre = Menu(cascad, tearoff=0)\n",
      "cascad.add_cascade(label=\"Titre\",menu=titre)\n",
      "titre.add_command(label=\"Menu Demo\", command=lambda : chtitre('Menu Demo'))\n",
      "titre.add_command(label=\"Test\", command=lambda : chtitre('Test'))\n",
      "\n",
      "# Creation du sous-menu \"Couleur\" (de cascad)\n",
      "color = Menu(cascad,tearoff=0)\n",
      "cascad.add_cascade(label=\"Couleur\",menu=color)\n",
      "color.add_command(label=\"bleu\", command=lambda : chcolor('blue'))\n",
      "color.add_command(label=\"rouge\", command=lambda : chcolor('red'))\n",
      "\n",
      "# Affiche le menu\n",
      "root.config(menu=menu1)\n",
      "root.mainloop()"
     ],
     "language": "python",
     "metadata": {},
     "outputs": [],
     "prompt_number": 1
    },
    {
     "cell_type": "markdown",
     "metadata": {},
     "source": [
      "L\u2019argument **tearoff=0** permet de rendre le menu non d\u00e9tachable\n",
      "\n",
      "Remarquez la pr\u00e9sence du **lambda** dans l\u2019appel de la fonction \n",
      "    lambda : chcolor(\u2019blue\u2019). \n",
      "Un simple chcolor(\u2019blue\u2019) ne marcherait pas car la fonction \u00e0 appeler par le menu ne doit pas contenir de param\u00e8tres. Vous avez ici une astuce permettant de passer outre cette contrainte.\n",
      "\n",
      "Pour le reste, lire attentivement les commentaires dans le code. Vous apprendrez \u00e0 manipuler les deux commandes principales :\n",
      "- **add_cascade** pour ajouter un sous-menu\n",
      "- **add_command** pour ajouter une commande appelant une fonction"
     ]
    },
    {
     "cell_type": "code",
     "collapsed": false,
     "input": [],
     "language": "python",
     "metadata": {},
     "outputs": []
    }
   ],
   "metadata": {}
  }
 ]
}