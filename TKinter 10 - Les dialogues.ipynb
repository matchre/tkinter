{
 "metadata": {
  "name": "",
  "signature": "sha256:e24ba07cd99bbd108738863aee1c827e1344109ab5f51922d0d762052f843525"
 },
 "nbformat": 3,
 "nbformat_minor": 0,
 "worksheets": [
  {
   "cells": [
    {
     "cell_type": "markdown",
     "metadata": {},
     "source": [
      "Afin de pouvoir personnaliser votre classeur sans d\u00e9truire le classeur sur lequel travaille votre voisin, vous allez tout d'abord aller dans le menu **`File`** puis **`Make a copy...`**. Renommez le classeur en ajoutant votre nom \u00e0 la fin du nom de fichier par exemple."
     ]
    },
    {
     "cell_type": "heading",
     "level": 1,
     "metadata": {},
     "source": [
      "Les dialogues"
     ]
    },
    {
     "cell_type": "markdown",
     "metadata": {},
     "source": [
      "Revenons sur la notion de bo\u00eetes de dialogue que nous avons bri\u00e8vement rencontr\u00e9 au d\u00e9but de nos activit\u00e9s. Dans cet exemple, nous en verrons de diff\u00e9rents type avec des situations illustrant leur utilisation.\n",
      "\n",
      "Le programme suivant illustre l\u2019utilisation de 3 types de bo\u00eetes de dialogue parmi les plus courantes. Il existe plusieurs bo\u00eetes de message :\n",
      "- les alertes (messagebox),\n",
      "- celles qui demandent une info (simpledialog),\n",
      "- celles qui permettent de choisir un fichier (filedialog)"
     ]
    },
    {
     "cell_type": "code",
     "collapsed": false,
     "input": [
      "from tkinter import *\n",
      "from tkinter.messagebox import *   # Les alertes\n",
      "from tkinter.simpledialog import * # demande d'infos\n",
      "from tkinter.filedialog import *   # dialogue fichiers\n",
      "\n",
      "# Exemple avec messagebox\n",
      "def bonjour():\n",
      "    showinfo(\"Politesse\",\"Bonjour tout le monde\")\n",
      "    info.config(text=\"T'as vu je suis poli!\")\n",
      "\n",
      "    # Exemple avec simpledialog\n",
      "def motdepasse():\n",
      "    passe=askstring(\"S\u00e9curit\u00e9\", \"Quel est le mot de passe?\")\n",
      "    info.config(text=\"Je connais ton mot de passe: \"+passe)\n",
      "\n",
      "    # Exemple avec filedialog pour ouvrir un fichier\n",
      "def fichier():\n",
      "    nom=askopenfilename()\n",
      "    info.config(text=\"Alors tu veux ouvrir le fichier: \"+nom+\"?\")\n",
      "\n",
      "cadre=Tk()\n",
      "cadre.title(\"Bo\u00eetes de message\")\n",
      "\n",
      "info=Label(cadre,text=\"Ici des informations en temps r\u00e9el!\",font=\"arial 20 bold\")\n",
      "info.pack()\n",
      "\n",
      "bouton1=Button(cadre,text=\" Formule de politesse !\",width=20,font=\"arial 20 bold\",\n",
      "bg='yellow',fg='red',command=bonjour)\n",
      "bouton1.pack()\n",
      "\n",
      "bouton2=Button(cadre,text=\" Mot de passe\",width=20,font=\"arial 20 bold\",\n",
      "bg='yellow',fg='red',command=motdepasse)\n",
      "bouton2.pack()\n",
      "\n",
      "bouton3=Button(cadre,text=\" Ouvrir Fichier\",width=20,font=\"arial 20 bold\",\n",
      "bg='yellow',fg='red',command=fichier)\n",
      "bouton3.pack()\n",
      "\n",
      "cadre.mainloop()"
     ],
     "language": "python",
     "metadata": {},
     "outputs": []
    },
    {
     "cell_type": "markdown",
     "metadata": {},
     "source": [
      "Vous avez-vu avec quelle simplicit\u00e9 ces dialogues se manipulent. Pour chaque type de dialogue, voici les m\u00e9yhodes les plus utiles :\n",
      "- M\u00e9thodes de ***messagebox*** : showinfo, showwarning, showerror, askquestion, askokcancel, askyesno, askretrycancel\n",
      "- M\u00e9thodes de ***simpledialog*** : askstring, askinteger and askfloat\n",
      "- M\u00e9thodes de ***filedialog*** : askopenfilename et asksaveasfilename"
     ]
    },
    {
     "cell_type": "heading",
     "level": 1,
     "metadata": {},
     "source": [
      "Dialogue de choix de couleur"
     ]
    },
    {
     "cell_type": "markdown",
     "metadata": {},
     "source": [
      "Il existe un autre type de dialogue destin\u00e9 \u00e0 choisir une couleur. Voici comment il fonctionne :"
     ]
    },
    {
     "cell_type": "code",
     "collapsed": false,
     "input": [
      "from tkinter import *\n",
      "from tkinter.colorchooser import askcolor\n",
      "\n",
      "# Affiche la fenetre de s\u00e9lection de couleur du syst\u00e8me\n",
      "def Choix():\n",
      "    result = askcolor(color=\"#FFEEDD\", title = \"Choix de couleur\")\n",
      "    # La r\u00e9ponse est un couple avec deux formats de codage :\n",
      "    # ((R,G,B) , #Hexadecimal)\n",
      "    print (result)\n",
      "\n",
      "# Cr\u00e9ation de la fenetre proncipale\n",
      "maFenetre = Tk()\n",
      "maFenetre.title(\"Choix de couleur\")\n",
      "# Cr\u00e9ation des boutons\n",
      "Button(maFenetre, text='Choisir', fg=\"darkgreen\", command=Choix).pack(side=LEFT, padx=10)\n",
      "Button(maFenetre, text='Quitter', command=maFenetre.destroy,fg=\"red\").pack(side=LEFT, padx=10)\n",
      "\n",
      "mainloop()"
     ],
     "language": "python",
     "metadata": {},
     "outputs": []
    },
    {
     "cell_type": "heading",
     "level": 1,
     "metadata": {},
     "source": [
      "A vous de jouer"
     ]
    },
    {
     "cell_type": "markdown",
     "metadata": {},
     "source": [
      "Reprendre l'application dessin r\u00e9alis\u00e9e pr\u00e9c\u00e9demment et ajouter un bouton permettant de choisir la couleur avec laquelle vous allez dessiner.\n",
      "\n",
      "Au moment de quitter, demander un message de confirmation avant de quitter.\n",
      "\n",
      "Indication : pour r\u00e9cup\u00e9rer la couleur sous forme exploitable par TKinter, vous exploiterez la r\u00e9ponde du dialogue sous la forme (R,V,B) avec une ligne du type :\n",
      "\n",
      "    couleur=\"#%02x%02x%02x\" % (128, 192, 200)\n",
      "\n",
      "Voici le r\u00e9sultat attendu :\n",
      "![](http://s25.postimg.org/69pymnc27/Capture_du_2014_11_16_12_14_00.png)"
     ]
    },
    {
     "cell_type": "code",
     "collapsed": false,
     "input": [
      "from tkinter import *\n",
      "from tkinter.colorchooser import askcolor\n",
      "from tkinter.messagebox import *\n",
      "\n",
      "# Ecrivez votre code ici\n"
     ],
     "language": "python",
     "metadata": {},
     "outputs": []
    },
    {
     "cell_type": "code",
     "collapsed": false,
     "input": [],
     "language": "python",
     "metadata": {},
     "outputs": []
    }
   ],
   "metadata": {}
  }
 ]
}