{
 "metadata": {
  "name": "",
  "signature": "sha256:bfaf0f62be3e3486b8058e6e8ab2430e3be7f93f04b51382c73b6f4065311b3c"
 },
 "nbformat": 3,
 "nbformat_minor": 0,
 "worksheets": [
  {
   "cells": [
    {
     "cell_type": "markdown",
     "metadata": {},
     "source": [
      "Afin de pouvoir personnaliser votre classeur sans d\u00e9truire le classeur sur lequel travaille votre voisin, vous allez tout d'abord aller dans le menu **`File`** puis **`Make a copy...`**. Renommez le classeur en ajoutant votre nom \u00e0 la fin du nom de fichier par exemple."
     ]
    },
    {
     "cell_type": "heading",
     "level": 1,
     "metadata": {},
     "source": [
      "Les lignes de saisie"
     ]
    },
    {
     "cell_type": "markdown",
     "metadata": {},
     "source": [
      "Il s'agit dans cet exemple d'am\u00e9liorer l'interaction avec l'utilisateur en prroposant un champ de saisie de texte. Nous aurons ainsi un \u00e9quivalent de la commande ***input*** en mode non graphique.\n",
      "\n",
      "Le programme propos\u00e9 dans cet exemple va simuler un formulaire de saisie de mot de passe :\n",
      "![](http://s25.postimg.org/ha29pbtu7/Capture_du_2014_11_15_18_13_38.png)\n",
      "\n",
      "Ce sera aussi l'occasion de d\u00e9couvrir les bo\u00eetes de dialogue qui sont des fen\u00eatres toute faites pour un usage pr\u00e9cis. Ici, nous afficherons un messsage en cas de mot de passe incorrect :\n",
      "![](http://s25.postimg.org/476n623m7/Capture_du_2014_11_15_18_14_02.png)\n",
      "\n",
      "Mais tout de suite, regardons le programme. Je vous laisse analyser le code pour trouver le mot de passe !"
     ]
    },
    {
     "cell_type": "code",
     "collapsed": false,
     "input": [
      "from tkinter import *\n",
      "from tkinter.messagebox import * # bo\u00eete de dialogue\n",
      "\n",
      "def Verification():\n",
      "    if Motdepasse.get() == 'python':\n",
      "        # le mot de passe est bon :\n",
      "        # on affiche une bo\u00eete de dialogue puis on ferme la fen\u00eatre\n",
      "        showinfo('R\u00e9sultat','Mot de passe correct.\\nAu revoir !')\n",
      "        Mafenetre.destroy()\n",
      "    else:\n",
      "        # le mot de passe est incorrect : on affiche une bo\u00eete de dialogue\n",
      "        showwarning('R\u00e9sultat','Mot de passe incorrect.\\nVeuillez recommencer !')\n",
      "        Motdepasse.set('')\n",
      "        \n",
      "# Cr\u00e9ation de la fen\u00eatre principale (main window)\n",
      "Mafenetre = Tk()\n",
      "Mafenetre.title('Identification requise')\n",
      "\n",
      "# Cr\u00e9ation d'un widget Label (texte 'Mot de passe')\n",
      "Label1 = Label(Mafenetre, text = 'Mot de passe ')\n",
      "Label1.pack(side = LEFT, padx = 5, pady = 5)\n",
      "\n",
      "# Cr\u00e9ation d'un widget Entry (champ de saisie)\n",
      "Motdepasse= StringVar()\n",
      "Champ = Entry(Mafenetre, textvariable= Motdepasse)\n",
      "Champ.focus_set()\n",
      "Champ.pack(side = LEFT, padx = 5, pady = 5)\n",
      "\n",
      "# Cr\u00e9ation d'un widget Button (bouton Valider)\n",
      "Bouton = Button(Mafenetre, text ='Valider', command = Verification)\n",
      "Bouton.pack(side = LEFT, padx = 5, pady = 5)\n",
      "\n",
      "Mafenetre.mainloop()"
     ],
     "language": "python",
     "metadata": {},
     "outputs": [],
     "prompt_number": 3
    },
    {
     "cell_type": "heading",
     "level": 2,
     "metadata": {},
     "source": [
      "Fonctionnement du champ de saisie texte"
     ]
    },
    {
     "cell_type": "markdown",
     "metadata": {},
     "source": [
      "Le champ de saisie du mot de passe se d\u00e9clare au moyen de la commande suivante :\n",
      "\n",
      "    Champ = Entry(Mafenetre, textvariable= Motdepasse, show='*', bg ='bisque', fg='maroon')\n",
      "La r\u00e9ponse viendra se positionner dans la variable *Motdepasse* qui est un objet *StringVar()* comme on peut s'en douter \u00e0 pr\u00e9sent (c'est en effet un texte qui sera modifi\u00e9 par l'utilisateur).\n",
      "\n",
      "Une petite subtilit\u00e9 dans cet exemple est le param\u00e8tre\n",
      "\n",
      "    show='*'\n",
      "Celui-ci permet d'afficher des \"*\" au lieu du mot de passe en clair.\n",
      "\n",
      "La ligne suivante m\u00e9rite aussi une petite explication :\n",
      "\n",
      "    Champ.focus_set()\n",
      "Celle-ci permet en effet de positionner le curseur dans le champ de saisie afin qu'il n'y ait pas besoin de cliquer dedans avant de commencer \u00e0 \u00e9crire. \n",
      "\n",
      "La r\u00e9cup\u00e9ration de la saisie de l'utilisateur se fait au moyen de l'appel \u00e0 la m\u00e9thode:\n",
      "\n",
      "    Motdepasse.get()"
     ]
    },
    {
     "cell_type": "heading",
     "level": 2,
     "metadata": {},
     "source": [
      "Explication sur les dialogues"
     ]
    },
    {
     "cell_type": "markdown",
     "metadata": {},
     "source": [
      "Une fen\u00eatre s'affiche avec un message et un bouton ***OK*** une fois le mot de passe saisi. Cette fen\u00eatre est en quelque sorte *pr\u00e9fabriqu\u00e9e*. C'est ce qu'on appelle un dialogue. \n",
      "\n",
      "TKinter poss\u00e8de beaucoup de dialogues pr\u00e9d\u00e9finis :\n",
      "- pour afficher des messages d'alerte\n",
      "- pour s\u00e9lectionner des couleurs\n",
      "- pour s\u00e9lectionner des fichiers dans le disque dur\n",
      "- etc...\n",
      "\n",
      "Pour utiliser cette foncitonnalit\u00e9 de dialogue d'alerte, nous commencerons par importer la librarie idoine :\n",
      "\n",
      "    from tkinter.messagebox import *\n",
      "\n",
      "Ensuite, l'affichage d'un message se fait par la simple commande :\n",
      "\n",
      "    showinfo('R\u00e9sultat','Mot de passe correct.\\nAu revoir !')\n",
      "Cela affiche la fen\u00eatre avec le label et le bouton avec une commande aussi siomple qu'un ***print***.  magique ! Remarquez au passage le caract\u00e8re ***\\n*** permettant de passer \u00e0 la ligne dans le message.\n",
      "\n",
      "La commande \n",
      "\n",
      "    showwarning('R\u00e9sultat','Mot de passe incorrect.\\nVeuillez recommencer !')\n",
      "est d'usage similaire. Elle affiche un panneau d'avertissement en plus."
     ]
    },
    {
     "cell_type": "markdown",
     "metadata": {},
     "source": [
      "Les dialogues de TKinter sont donc un moyen tr\u00e8s \u00e9conomique d'agr\u00e9menter l'interaction avec l'utilisateur. Nous y reviendrons un peu plus tard avec d'autres dialogues pr\u00e9d\u00e9finis dans TKinter."
     ]
    },
    {
     "cell_type": "heading",
     "level": 1,
     "metadata": {},
     "source": [
      "A vous de jouer"
     ]
    },
    {
     "cell_type": "markdown",
     "metadata": {},
     "source": [
      "Ecrire une application ***racine carr\u00e9e*** prenant en entr\u00e9e un nombre et affichant sa racine carr\u00e9e comme le montre l'exemple ci-dessous :\n",
      "![](http://s25.postimg.org/jh6id8z4f/Capture_du_2014_11_15_18_34_42.png)"
     ]
    },
    {
     "cell_type": "code",
     "collapsed": false,
     "input": [
      "from tkinter import *\n",
      "from math import sqrt\n",
      "# Ecrivez votre code ici\n"
     ],
     "language": "python",
     "metadata": {},
     "outputs": []
    },
    {
     "cell_type": "code",
     "collapsed": false,
     "input": [],
     "language": "python",
     "metadata": {},
     "outputs": []
    }
   ],
   "metadata": {}
  }
 ]
}