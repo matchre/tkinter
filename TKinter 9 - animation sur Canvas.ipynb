{
 "metadata": {
  "name": "",
  "signature": "sha256:b306742053b04d2baccd479c8cb04bbfcc617b7170b537ec2ebfa0a5b97731d5"
 },
 "nbformat": 3,
 "nbformat_minor": 0,
 "worksheets": [
  {
   "cells": [
    {
     "cell_type": "markdown",
     "metadata": {},
     "source": [
      "Afin de pouvoir personnaliser votre classeur sans d\u00e9truire le classeur sur lequel travaille votre voisin, vous allez tout d'abord aller dans le menu **`File`** puis **`Make a copy...`**. Renommez le classeur en ajoutant votre nom \u00e0 la fin du nom de fichier par exemple."
     ]
    },
    {
     "cell_type": "heading",
     "level": 1,
     "metadata": {},
     "source": [
      "Animation d'un objet sur un Canvas"
     ]
    },
    {
     "cell_type": "markdown",
     "metadata": {},
     "source": [
      "L'activit\u00e9 suivante va consister \u00e0 animer une bille sur un Canvas. On peut en premi\u00e8re approche penser qu'il suffit simplement de changer les coordonn\u00e9es d'un objet dans une bouche pour que l'objet se d\u00e9place, nous allons voir qu'il n'en est rien !\n",
      "\n",
      "Regardons tout d'abord \u00e0 quoi doit ressembler notre application :\n",
      "\n",
      "![](http://s25.postimg.org/i4tv8h80f/Capture_du_2014_11_16_11_11_46.png)\n",
      "\n",
      "Attelons nous d'abord \u00e0 la conception de l'interface sans nous attarder sur le mouvement : "
     ]
    },
    {
     "cell_type": "code",
     "collapsed": false,
     "input": [
      "from tkinter import *\n",
      "\n",
      "def move():\n",
      "    pass # nous allons la d\u00e9finir plus tard\n",
      "\n",
      "def stop_it():\n",
      "    \"\"\"arret de l'animation\"\"\"\n",
      "    global flag\n",
      "    flag =0\n",
      "    \n",
      "def start_it():\n",
      "    \"\"\"demarrage de l'animation\"\"\"\n",
      "    global flag\n",
      "    if flag ==0:\n",
      "        # pour ne lancer qu'une seule boucle\n",
      "        flag =1\n",
      "        move()\n",
      "\n",
      "#========== Programme principal =============\n",
      "# les variables suivantes seront utilisees de maniere globale :\n",
      "x1, y1 = 10, 10  # coordonnees initiales\n",
      "dx, dy = 15, 0   # 'pas' du deplacement\n",
      "flag =0          # indicateur de mouvement modifi\u00e9 par start_it et stop_it\n",
      "\n",
      "# Creation du widget principal (\"parent\") :\n",
      "fenetre = Tk()\n",
      "fenetre.title(\"Exercice d'animation avec Tkinter\")\n",
      "\n",
      "# creation des widgets \"enfants\" :\n",
      "can1 = Canvas(fenetre,bg='dark grey',height=250, width=250)\n",
      "can1.pack(side=LEFT, padx =5, pady =5)\n",
      "\n",
      "# Creation de la balle. On memorise ici son nom, c'est important !!\n",
      "oval1 = can1.create_oval(x1, y1, x1+30, y1+30, width=2, fill='red')\n",
      "\n",
      "bou1 = Button(fenetre,text='Quitter', width =8, command=fenetre.destroy)\n",
      "bou1.pack(side=BOTTOM)\n",
      "bou2 = Button(fenetre, text='Demarrer', width =8, command=start_it)\n",
      "bou2.pack()\n",
      "bou3 = Button(fenetre, text='Arreter', width =8, command=stop_it)\n",
      "bou3.pack()\n",
      "\n",
      "# demarrage du receptionnaire d'evenements (boucle principale) :\n",
      "fenetre.mainloop()"
     ],
     "language": "python",
     "metadata": {},
     "outputs": [],
     "prompt_number": 1
    },
    {
     "cell_type": "markdown",
     "metadata": {},
     "source": [
      "L'application prend forme mais rien ne bouge ! c'est normal, nous avons fait l'im**pass**e sur\n",
      "la fonction **move()** charg\u00e9e du mouvement.\n",
      "\n",
      "Commen\u00e7ons par d\u00e9finir une fonction **move()** qui aura pour but de d\u00e9placer la bille sur le canvas. Utilisons une premi\u00e8re appproche na\u00efve :"
     ]
    },
    {
     "cell_type": "code",
     "collapsed": false,
     "input": [
      "def move():\n",
      "    \"deplacement de la balle\"\n",
      "    global x1, y1, dx, dy, flag\n",
      "    while flag>0:\n",
      "        x1, y1 = x1 +dx, y1 + dy\n",
      "        if x1 >210:\n",
      "            x1, dx, dy = 210, 0, 15\n",
      "        if y1 >210:\n",
      "            y1, dx, dy = 210, -15, 0\n",
      "        if x1 <10:\n",
      "            x1, dx, dy = 10, 0, -15\n",
      "        if y1 <10:\n",
      "            y1, dx, dy = 10, 15, 0\n",
      "        can1.coords(oval1,x1,y1,x1+30,y1+30)"
     ],
     "language": "python",
     "metadata": {},
     "outputs": []
    },
    {
     "cell_type": "markdown",
     "metadata": {},
     "source": [
      "Dans cette approche, nous utilisons une boucle qui s'arr\u00eatera lorsque l'indicateur flag sera modifi\u00e9 par l'appui sur le bouton stop. Dans cette boucle on ajuste les coordonn\u00e9es en ajoutant un d\u00e9placement sur x : *dx* et sur y : *dy*. Ces d\u00e9placements sont calcul\u00e9s selon le bord ou on se trouve. Quand on atteint l'extr\u00e9mit\u00e9 d'un bord, on ajuste les incr\u00e9ments *dx* et *dy* afin que le mouvement change de direction. **Facile non ? ** En th\u00e9orie, cela doit marcher. \n",
      "\n",
      "V\u00e9rifions cela tout de suite en validant la cellule de notre fonction **move()** et de notre programme principal :"
     ]
    },
    {
     "cell_type": "code",
     "collapsed": false,
     "input": [
      "#========== Programme principal =============\n",
      "# les variables suivantes seront utilisees de maniere globale :\n",
      "x1, y1 = 10, 10  # coordonnees initiales\n",
      "dx, dy = 15, 0   # 'pas' du deplacement\n",
      "flag =0          # indicateur de mouvement modifi\u00e9 par start_it et stop_it\n",
      "\n",
      "# Creation du widget principal (\"parent\") :\n",
      "fenetre = Tk()\n",
      "fenetre.title(\"Exercice d'animation avec Tkinter\")\n",
      "\n",
      "# creation des widgets \"enfants\" :\n",
      "can1 = Canvas(fenetre,bg='dark grey',height=250, width=250)\n",
      "can1.pack(side=LEFT, padx =5, pady =5)\n",
      "\n",
      "# Creation de la balle. On memorise ici son nom, c'est important !!\n",
      "oval1 = can1.create_oval(x1, y1, x1+30, y1+30, width=2, fill='red')\n",
      "\n",
      "bou1 = Button(fenetre,text='Quitter', width =8, command=fenetre.destroy)\n",
      "bou1.pack(side=BOTTOM)\n",
      "bou2 = Button(fenetre, text='Demarrer', width =8, command=start_it)\n",
      "bou2.pack()\n",
      "bou3 = Button(fenetre, text='Arreter', width =8, command=stop_it)\n",
      "bou3.pack()\n",
      "\n",
      "# demarrage du receptionnaire d'evenements (boucle principale) :\n",
      "fenetre.mainloop()"
     ],
     "language": "python",
     "metadata": {},
     "outputs": [],
     "prompt_number": 2
    },
    {
     "cell_type": "markdown",
     "metadata": {},
     "source": [
      "***Catastrophe*** notre programme plante ! Que s'est-il pass\u00e9 ? Nous devons l'interrompre avec le bouton <button><i class=\"icon-stop\"></i></button>\n",
      "\n",
      "Pas de panique, c'est tout \u00e0 fait normal. Rappelons nous comment fonctionne un programme avec une interface graphique : Le programme principal est constitu\u00e9 du **mainloop** qui est une boucle\n",
      "infinie qui attend un \u00e9v\u00e9nement particulier pour passer la main \u00e0 une partie du programme. Si nous la fonction move avec une boucle **while** pour bouger la balle, notre programme est pi\u00e9g\u00e9 \u00e0 l'int\u00e9rieur de cette boucle **while** et ne peut rendre la main \u00e0 la **mainloop** en charge de g\u00e9rer entre autre la d\u00e9tection des appuis sur les boutons. Notre programme est fig\u00e9 car plus aucun \u00e9v\u00e9nement n'est trait\u00e9 !!"
     ]
    },
    {
     "cell_type": "heading",
     "level": 2,
     "metadata": {},
     "source": [
      "Comment ne pas figer le programme ?"
     ]
    },
    {
     "cell_type": "markdown",
     "metadata": {},
     "source": [
      "Il faut obligatoirement rendre la main \u00e0 notre **mainloop** \u00e0 intervalles r\u00e9guliers afin qu'elle puisse traiter les \u00e9v\u00e9nements comme l'appui sur les boutons. Pour ce faire, nous ferons appel \u00e0 la m\u00e9thode **after()** de notre fen\u00eatre principale. Cette m\u00e9thode permet de planifier le lancement d'une action au bout d'un certain temps. En attendant, la main est rendue \u00e0 la **mainloop**. \n",
      "\n",
      "Voici donc la solution \u00e0 notre probl\u00e8me : remplacer le **while** bloquant par des appels r\u00e9guliers \u00e0 la fonction **move()** gr\u00e2ce \u00e0 la m\u00e9thode **after()**. Voici comment on proc\u00e8de :"
     ]
    },
    {
     "cell_type": "code",
     "collapsed": false,
     "input": [
      "def move():\n",
      "    \"\"\"deplacement de la balle\"\"\"\n",
      "    global x1, y1, dx, dy, flag\n",
      "    x1, y1 = x1 +dx, y1 + dy\n",
      "    if x1 >210:\n",
      "        x1, dx, dy = 210, 0, 15\n",
      "    if y1 >210:\n",
      "        y1, dx, dy = 210, -15, 0\n",
      "    if x1 <10:\n",
      "        x1, dx, dy = 10, 0, -15\n",
      "    if y1 <10:\n",
      "        y1, dx, dy = 10, 15, 0\n",
      "    # On peut changer les coordonnees de la balle grace au nom memorise\n",
      "    can1.coords(oval1,x1,y1,x1+30,y1+30)\n",
      "    if flag >0:\n",
      "        fenetre.after(50,move)\n",
      "    # => boucler apres 50 millisecondes"
     ],
     "language": "python",
     "metadata": {},
     "outputs": [],
     "prompt_number": 5
    },
    {
     "cell_type": "markdown",
     "metadata": {},
     "source": [
      "Testons \u00e0 pr\u00e9sent notre programme :"
     ]
    },
    {
     "cell_type": "code",
     "collapsed": false,
     "input": [
      "#========== Programme principal =============\n",
      "# les variables suivantes seront utilisees de maniere globale :\n",
      "x1, y1 = 10, 10  # coordonnees initiales\n",
      "dx, dy = 15, 0   # 'pas' du deplacement\n",
      "flag =0          # indicateur de mouvement modifi\u00e9 par start_it et stop_it\n",
      "\n",
      "# Creation du widget principal (\"parent\") :\n",
      "fenetre = Tk()\n",
      "fenetre.title(\"Exercice d'animation avec Tkinter\")\n",
      "\n",
      "# creation des widgets \"enfants\" :\n",
      "can1 = Canvas(fenetre,bg='dark grey',height=250, width=250)\n",
      "can1.pack(side=LEFT, padx =5, pady =5)\n",
      "\n",
      "# Creation de la balle. On memorise ici son nom, c'est important !!\n",
      "oval1 = can1.create_oval(x1, y1, x1+30, y1+30, width=2, fill='red')\n",
      "\n",
      "bou1 = Button(fenetre,text='Quitter', width =8, command=fenetre.destroy)\n",
      "bou1.pack(side=BOTTOM)\n",
      "bou2 = Button(fenetre, text='Demarrer', width =8, command=start_it)\n",
      "bou2.pack()\n",
      "bou3 = Button(fenetre, text='Arreter', width =8, command=stop_it)\n",
      "bou3.pack()\n",
      "\n",
      "# demarrage du receptionnaire d'evenements (boucle principale) :\n",
      "fenetre.mainloop()"
     ],
     "language": "python",
     "metadata": {},
     "outputs": [],
     "prompt_number": 6
    },
    {
     "cell_type": "markdown",
     "metadata": {},
     "source": [
      "Magnifique, cela fonctionne ! La fonction **move()** ne monopolise plus le programme mais effecture un petit d\u00e9placement, puis oblige la fen\u00eatre principale du programme \u00e0 la rappeler au bout de 50 milliseconde si l'ordre d'arr\u00eater n'a pas \u00e9t\u00e9 pass\u00e9. Cela revient au final \u00e0 une boucle tant que sauf que la mainloop reprend la main r\u00e9guli\u00e8rement et donc notre programme r\u00e9pond aux demandes de l'utilisateur."
     ]
    },
    {
     "cell_type": "markdown",
     "metadata": {},
     "source": [
      "On retiendra que pour toute animation, il ne faut **jamais bloquer la mainloop**. Pour cela on fait appel \u00e0 la m\u00e9thode **after()**"
     ]
    },
    {
     "cell_type": "heading",
     "level": 1,
     "metadata": {},
     "source": [
      "A vous de jouer !"
     ]
    },
    {
     "cell_type": "markdown",
     "metadata": {},
     "source": [
      "En guise d'entrainement, vous allez \u00e9crire un programme en vous basant sur l'exercice pr\u00e9c\u00e9dent qui affichait des carr\u00e9s verts \u00e0 l'emplacement du clic de souris. Sauf que cette fois-ci, vous allez les faire tomber par terre avec une jolie animation !\n",
      "\n",
      "Au travail. Voici le code de l'exemple servant de base \u00e0 votre travail. Fa\u00eetes tomber les rectangles par terre."
     ]
    },
    {
     "cell_type": "code",
     "collapsed": false,
     "input": [
      "from tkinter import *\n",
      "\n",
      "def Clic(event):\n",
      "    \"\"\" Gestion de l'\u00e9v\u00e9nement Clic gauche sur la zone graphique \"\"\"\n",
      "    # position du pointeur de la souris\n",
      "    X = event.x\n",
      "    Y = event.y\n",
      "    # on dessine un carr\u00e9\n",
      "    r = 20\n",
      "    Canevas.create_rectangle(X-r, Y-r, X+r, Y+r, outline='black',fill='green')\n",
      "\n",
      "def Effacer():\n",
      "    \"\"\" Efface la zone graphique \"\"\"\n",
      "    Canevas.delete(ALL)\n",
      "\n",
      "# Cr\u00e9ation de la fen\u00eatre principale\n",
      "Mafenetre = Tk()\n",
      "Mafenetre.title('Carr\u00e9s')\n",
      "\n",
      "# Cr\u00e9ation d'un widget Canvas\n",
      "Largeur = 480\n",
      "Hauteur = 320\n",
      "Canevas = Canvas(Mafenetre, width = Largeur, height =Hauteur, bg ='white')\n",
      "\n",
      "# La m\u00e9thode bind() permet de lier un \u00e9v\u00e9nement avec une fonction :\n",
      "# un clic gauche sur le canvas provoquera l'appel de la fonction Clic()\n",
      "Canevas.bind('<Button-1>', Clic)\n",
      "Canevas.pack(padx =5, pady =5)\n",
      "\n",
      "# Cr\u00e9ation d'un widget Button (bouton Effacer)\n",
      "Button(Mafenetre, text ='Effacer', command = Effacer).pack(side=LEFT,padx = 5,pady = 5)\n",
      "# Cr\u00e9ation d'un widget Button (bouton Quitter)\n",
      "Button(Mafenetre, text ='Quitter', command = Mafenetre.destroy).pack(side=LEFT)\n",
      "\n",
      "Mafenetre.mainloop()"
     ],
     "language": "python",
     "metadata": {},
     "outputs": [],
     "prompt_number": 4
    },
    {
     "cell_type": "code",
     "collapsed": false,
     "input": [],
     "language": "python",
     "metadata": {},
     "outputs": []
    }
   ],
   "metadata": {}
  }
 ]
}